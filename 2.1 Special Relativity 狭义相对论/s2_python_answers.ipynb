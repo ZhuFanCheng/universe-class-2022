{
 "cells": [
  {
   "cell_type": "markdown",
   "metadata": {},
   "source": [
    "## Special Relativity\n",
    "\n",
    "Imagine that we are building a next generate spaceship that will use our \"Hyper Energy\" propulsion system to accelerate our ship to speeds over 10% the speed of light.\n",
    "\n",
    "However, we also need to understand better how our perception of reality will change as compared to the team we leave on Earth.\n",
    "\n",
    "Special relativity tells us that objects moving with very high speeds - close to the speed of light - will behave in strange ways.\n",
    "\n",
    "For example, their mass will increase, theit time will slow down, and their length will shrink.\n",
    "\n",
    "In this programing exercise, we will write functions to quickly calculate\n",
    "- relativistic mass\n",
    "- time dilation\n",
    "- length contraction"
   ]
  },
  {
   "cell_type": "code",
   "execution_count": 1,
   "metadata": {},
   "outputs": [],
   "source": [
    "c = 300000000\n",
    "import numpy as np\n",
    "from matplotlib import pyplot as plt"
   ]
  },
  {
   "cell_type": "markdown",
   "metadata": {},
   "source": [
    "### 1. Relativistic mass\n",
    "\n",
    "Write a function that will tell you, given your initial mass m0 when at rest on Earth, and given your speed v, will give you your relativistic speed at v."
   ]
  },
  {
   "cell_type": "code",
   "execution_count": 2,
   "metadata": {},
   "outputs": [],
   "source": [
    "def gamma(v):\n",
    "    return (np.sqrt(1-v**2/c**2))"
   ]
  },
  {
   "cell_type": "code",
   "execution_count": 3,
   "metadata": {},
   "outputs": [],
   "source": [
    "import numpy as np\n",
    "\n",
    "def rel_mass(m0,v):\n",
    "    return m0*(1/gamma(v))"
   ]
  },
  {
   "cell_type": "markdown",
   "metadata": {},
   "source": [
    "### 2. Time dilation\n",
    "\n",
    "Write a function that will tell you, given your speed v and the time that passed on Earth t_o will give you your time t_m"
   ]
  },
  {
   "cell_type": "code",
   "execution_count": 4,
   "metadata": {},
   "outputs": [],
   "source": [
    "def t_dilation(t_o,v):\n",
    "    return t_o*(gamma(v))"
   ]
  },
  {
   "cell_type": "code",
   "execution_count": 18,
   "metadata": {},
   "outputs": [
    {
     "data": {
      "text/plain": [
       "141.06735979665893"
      ]
     },
     "execution_count": 18,
     "metadata": {},
     "output_type": "execute_result"
    }
   ],
   "source": [
    "t_dilation(1000,0.99*c)"
   ]
  },
  {
   "cell_type": "markdown",
   "metadata": {},
   "source": [
    "### 3. Length contraction\n",
    "\n",
    "Write a function that will tell you, given your speed v and the length of your ship that you measure L, will give you what the obsever on Earht will measure if they watch your ship."
   ]
  },
  {
   "cell_type": "code",
   "execution_count": 5,
   "metadata": {},
   "outputs": [],
   "source": [
    "def l_contr(L,v):\n",
    "    return L*(gamma(v))"
   ]
  },
  {
   "cell_type": "markdown",
   "metadata": {},
   "source": [
    "### 4. Flying to space!\n",
    "\n",
    "Assume the following:\n",
    "\n",
    "Weight of your ship on Earth before starting the trip:\n",
    "$m_0 = M$\n",
    "\n",
    "Target speed:\n",
    "$v = k*c$\n",
    "where k is a constant $0<k<1$, and $c$ is the speed of light\n",
    "\n",
    "#### 4.1\n",
    "What will be your relativistic mass if M = 100000, k = 0.3?\n",
    "\n",
    "#### 4.2\n",
    "How much time will pass for you if k = 0.3, and on Earth one year passes?\n",
    "\n",
    "#### 4.3\n",
    "If k = 0.3, how long will be your ship appear to be from Earth, if you measure it to be 100m long?"
   ]
  },
  {
   "cell_type": "code",
   "execution_count": 6,
   "metadata": {},
   "outputs": [
    {
     "name": "stdout",
     "output_type": "stream",
     "text": [
      "104828.48367219183\n",
      "0.9539392014169457\n",
      "95.39392014169457\n"
     ]
    }
   ],
   "source": [
    "## 4.1\n",
    "mass_rel = rel_mass(100000,0.3*c)\n",
    "print(mass_rel)\n",
    "\n",
    "## 4.2\n",
    "time_dil = t_dilation(1,0.3*c)\n",
    "print(time_dil)\n",
    "\n",
    "## 4.3\n",
    "length_contr = l_contr(100,0.3*c)\n",
    "print(length_contr)"
   ]
  },
  {
   "cell_type": "markdown",
   "metadata": {},
   "source": [
    "#### 4.4\n",
    "Use your functions to plot your mass as a function of k*c as you accelerate from v=0 to v=c\n",
    "\n",
    "#### 4.5\n",
    "Use your functions to plot how one year on Earth is perceived by you as your velocity increases from 0 to c.\n",
    "\n",
    "#### 4.6\n",
    "Use your function to plot how long your ship will appear to observers on Earth as you accelerate from 0 to c."
   ]
  },
  {
   "cell_type": "code",
   "execution_count": 7,
   "metadata": {},
   "outputs": [
    {
     "name": "stderr",
     "output_type": "stream",
     "text": [
      "<ipython-input-3-4af75d8b5049>:4: RuntimeWarning: divide by zero encountered in true_divide\n",
      "  return m0*(1/gamma(v))\n"
     ]
    },
    {
     "data": {
      "text/plain": [
       "[<matplotlib.lines.Line2D at 0x7fb368086b50>]"
      ]
     },
     "execution_count": 7,
     "metadata": {},
     "output_type": "execute_result"
    },
    {
     "data": {
      "image/png": "[encoded data removed]",
      "text/plain": [
       "<Figure size 432x288 with 1 Axes>"
      ]
     },
     "metadata": {
      "needs_background": "light"
     },
     "output_type": "display_data"
    }
   ],
   "source": [
    "v = np.linspace(0,c,1000)\n",
    "\n",
    "## 4.4\n",
    "mass = rel_mass(100000,v)\n",
    "plt.plot(v,mass)"
   ]
  },
  {
   "cell_type": "code",
   "execution_count": 8,
   "metadata": {},
   "outputs": [
    {
     "data": {
      "text/plain": [
       "[<matplotlib.lines.Line2D at 0x7fb38020a700>]"
      ]
     },
     "execution_count": 8,
     "metadata": {},
     "output_type": "execute_result"
    },
    {
     "data": {
      "image/png": "[encoded data removed]",
      "text/plain": [
       "<Figure size 432x288 with 1 Axes>"
      ]
     },
     "metadata": {
      "needs_background": "light"
     },
     "output_type": "display_data"
    }
   ],
   "source": [
    "v = np.linspace(0,c,1000)\n",
    "\n",
    "## 4.5\n",
    "time = t_dilation(1,v)\n",
    "plt.plot(v,time)"
   ]
  },
  {
   "cell_type": "code",
   "execution_count": 9,
   "metadata": {},
   "outputs": [
    {
     "data": {
      "text/plain": [
       "[<matplotlib.lines.Line2D at 0x7fb3a0eb3250>]"
      ]
     },
     "execution_count": 9,
     "metadata": {},
     "output_type": "execute_result"
    },
    {
     "data": {
      "image/png": "[encoded data removed]",
      "text/plain": [
       "<Figure size 432x288 with 1 Axes>"
      ]
     },
     "metadata": {
      "needs_background": "light"
     },
     "output_type": "display_data"
    }
   ],
   "source": [
    "v = np.linspace(0,c,1000)\n",
    "\n",
    "## 4.6\n",
    "l = l_contr(100,v)\n",
    "plt.plot(v,l)"
   ]
  },
  {
   "cell_type": "markdown",
   "metadata": {},
   "source": [
    "## 5.\n",
    "How fast do you need to travel to make sure that when you came to Earth, you only grew 1 year older, but a hundred years passed on earth?"
   ]
  },
  {
   "cell_type": "markdown",
   "metadata": {},
   "source": [
    "*Model answer*\n",
    "\n",
    "*We can first plot the graph of how much time passes for us when 100 years pass on Earth. This is just time dilation for t_o = 100 and velocity changing from 0 to c.*\n",
    "\n",
    "*The place where this graph crosses the graph of time_mine = 1 is what we want.*"
   ]
  },
  {
   "cell_type": "code",
   "execution_count": 10,
   "metadata": {},
   "outputs": [
    {
     "data": {
      "text/plain": [
       "[<matplotlib.lines.Line2D at 0x7fb390c494f0>]"
      ]
     },
     "execution_count": 10,
     "metadata": {},
     "output_type": "execute_result"
    },
    {
     "data": {
      "image/png": "[encoded data removed]",
      "text/plain": [
       "<Figure size 432x288 with 1 Axes>"
      ]
     },
     "metadata": {
      "needs_background": "light"
     },
     "output_type": "display_data"
    }
   ],
   "source": [
    "v = np.linspace(0,c,1000)\n",
    "\n",
    "## 4.5\n",
    "time = t_dilation(100,v)\n",
    "plt.plot(v,time)\n",
    "plt.plot(v,np.ones(len(v)))"
   ]
  },
  {
   "cell_type": "markdown",
   "metadata": {},
   "source": [
    "*We can see that this will definitely happen when velocity v>0.99c. Hence we can have a look at different values of velocity around that area, for example printing a lot of them:*"
   ]
  },
  {
   "cell_type": "code",
   "execution_count": 11,
   "metadata": {},
   "outputs": [
    {
     "name": "stdout",
     "output_type": "stream",
     "text": [
      "k= 0.999904761904762  , and then our time is  1.3800982580277203  years\n",
      "k= 0.999905  , and then our time is  1.378372137704669  years\n",
      "k= 0.9999052631578947  , and then our time is  1.3764618016536556  years\n",
      "k= 0.9999055555555556  , and then our time is  1.3743360911204936  years\n",
      "k= 0.9999058823529412  , and then our time is  1.3719563986728134  years\n",
      "k= 0.99990625  , and then our time is  1.369274300267913  years\n",
      "k= 0.9999066666666667  , and then our time is  1.3662282223534346  years\n",
      "k= 0.9999071428571429  , and then our time is  1.3627386516322801  years\n",
      "k= 0.9999076923076923  , and then our time is  1.3587010852472343  years\n",
      "k= 0.9999083333333334  , and then our time is  1.3539753711035747  years\n",
      "k= 0.999909090909091  , and then our time is  1.3483690791291865  years\n",
      "k= 0.99991  , and then our time is  1.3416105992423952  years\n",
      "k= 0.9999111111111111  , and then our time is  1.3333037033747288  years\n",
      "k= 0.9999125  , and then our time is  1.3228467173110758  years\n",
      "k= 0.9999142857142858  , and then our time is  1.3092792845289123  years\n",
      "k= 0.9999166666666667  , and then our time is  1.2909675527378075  years\n",
      "k= 0.99992  , and then our time is  1.264885765592939  years\n",
      "k= 0.9999250000000001  , and then our time is  1.2247219072098046  years\n",
      "k= 0.9999333333333333  , and then our time is  1.154681293209687  years\n",
      "k= 0.99995  , and then our time is  0.999987499921895  years\n"
     ]
    }
   ],
   "source": [
    "for r in range(20):\n",
    "    k = 0.9999+0.0001/(21-r)\n",
    "    v = k*c\n",
    "    dilation = t_dilation(100,v)\n",
    "    print(\"k=\",str(k),\" , and then our time is \", str(dilation), \" years\")"
   ]
  },
  {
   "cell_type": "code",
   "execution_count": null,
   "metadata": {},
   "outputs": [],
   "source": []
  },
  {
   "cell_type": "code",
   "execution_count": null,
   "metadata": {},
   "outputs": [],
   "source": []
  },
  {
   "cell_type": "code",
   "execution_count": null,
   "metadata": {},
   "outputs": [],
   "source": []
  },
  {
   "cell_type": "code",
   "execution_count": null,
   "metadata": {},
   "outputs": [],
   "source": []
  },
  {
   "cell_type": "code",
   "execution_count": null,
   "metadata": {},
   "outputs": [],
   "source": []
  }
 ],
 "metadata": {
  "kernelspec": {
   "display_name": "Python 3",
   "language": "python",
   "name": "python3"
  },
  "language_info": {
   "codemirror_mode": {
    "name": "ipython",
    "version": 3
   },
   "file_extension": ".py",
   "mimetype": "text/x-python",
   "name": "python",
   "nbconvert_exporter": "python",
   "pygments_lexer": "ipython3",
   "version": "3.8.3"
  }
 },
 "nbformat": 4,
 "nbformat_minor": 4
}
