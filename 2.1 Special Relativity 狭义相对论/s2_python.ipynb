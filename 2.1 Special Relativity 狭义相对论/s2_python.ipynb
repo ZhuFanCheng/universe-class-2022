{
 "cells": [
  {
   "cell_type": "markdown",
   "metadata": {},
   "source": [
    "## Special Relativity\n",
    "\n",
    "Imagine that we are building a next generate spaceship that will use our \"Hyper Energy\" propulsion system to accelerate our ship to speeds over 10% the speed of light.\n",
    "\n",
    "However, we also need to understand better how our perception of reality will change as compared to the team we leave on Earth.\n",
    "\n",
    "Special relativity tells us that objects moving with very high speeds - close to the speed of light - will behave in strange ways.\n",
    "\n",
    "For example, their mass will increase, theit time will slow down, and their length will shrink.\n",
    "\n",
    "In this programing exercise, we will write functions to quickly calculate\n",
    "- relativistic mass\n",
    "- time dilation\n",
    "- length contraction"
   ]
  },
  {
   "cell_type": "code",
   "execution_count": null,
   "metadata": {},
   "outputs": [],
   "source": [
    "c = 300000000\n",
    "import numpy as np\n",
    "from matplotlib import pyplot as plt"
   ]
  },
  {
   "cell_type": "markdown",
   "metadata": {},
   "source": [
    "### 1. Relativistic mass\n",
    "\n",
    "Write a function that will tell you, given your initial mass m0 when at rest on Earth, and given your speed v, will give you your relativistic speed at v."
   ]
  },
  {
   "cell_type": "code",
   "execution_count": null,
   "metadata": {},
   "outputs": [],
   "source": [
    "def rel_mass(m0,v):\n",
    "    ..."
   ]
  },
  {
   "cell_type": "markdown",
   "metadata": {},
   "source": [
    "### 2. Time dilation\n",
    "\n",
    "Write a function that will tell you, given your speed v and the time that passed on Earth t_o will give you your time t_m"
   ]
  },
  {
   "cell_type": "code",
   "execution_count": null,
   "metadata": {},
   "outputs": [],
   "source": [
    "def t_dilation(t_o,v):\n",
    "    ..."
   ]
  },
  {
   "cell_type": "markdown",
   "metadata": {},
   "source": [
    "### 3. Length contraction\n",
    "\n",
    "Write a function that will tell you, given your speed v and the length of your ship that you measure L, will give you what the obsever on Earht will measure if they watch your ship."
   ]
  },
  {
   "cell_type": "code",
   "execution_count": null,
   "metadata": {},
   "outputs": [],
   "source": [
    "def l_contr(L,v):\n",
    "    ..."
   ]
  },
  {
   "cell_type": "markdown",
   "metadata": {},
   "source": [
    "### 4. Flying to space!\n",
    "\n",
    "Assume the following:\n",
    "\n",
    "Weight of your ship on Earth before starting the trip:\n",
    "$m_0 = M$\n",
    "\n",
    "Target speed:\n",
    "$v = k*c$\n",
    "where k is a constant $0<k<1$, and $c$ is the speed of light\n",
    "\n",
    "#### 4.1\n",
    "What will be your relativistic mass if M = 100000, k = 0.3?\n",
    "\n",
    "#### 4.2\n",
    "How much time will pass for you if k = 0.3, and on Earth one year passes?\n",
    "\n",
    "#### 4.3\n",
    "If k = 0.3, how long will be your ship appear to be from Earth, if you measure it to be 100m long?"
   ]
  },
  {
   "cell_type": "code",
   "execution_count": null,
   "metadata": {},
   "outputs": [],
   "source": [
    "## 4.1\n",
    "mass_rel = ...\n",
    "print(mass_rel)\n",
    "\n",
    "## 4.2\n",
    "time_dil = ...\n",
    "print(time_dil)\n",
    "\n",
    "## 4.3\n",
    "length_contr = ...\n",
    "print(length_contr)"
   ]
  },
  {
   "cell_type": "markdown",
   "metadata": {},
   "source": [
    "#### 4.4\n",
    "Use your functions to plot your mass as a function of k*c as you accelerate from v=0 to v=c\n",
    "\n",
    "#### 4.5\n",
    "Use your functions to plot how one year on Earth is perceived by you as your velocity increases from 0 to c.\n",
    "\n",
    "#### 4.6\n",
    "Use your function to plot how long your ship will appear to observers on Earth as you accelerate from 0 to c."
   ]
  },
  {
   "cell_type": "code",
   "execution_count": null,
   "metadata": {},
   "outputs": [],
   "source": [
    "v = np.linspace(0,c,1000)\n",
    "## 4.4\n",
    "mass = ...\n",
    "#plot:\n",
    "..."
   ]
  },
  {
   "cell_type": "code",
   "execution_count": null,
   "metadata": {},
   "outputs": [],
   "source": [
    "## 4.5\n",
    "..."
   ]
  },
  {
   "cell_type": "code",
   "execution_count": null,
   "metadata": {},
   "outputs": [],
   "source": [
    "## 4.6\n",
    "..."
   ]
  },
  {
   "cell_type": "markdown",
   "metadata": {},
   "source": [
    "## 5.\n",
    "How fast do you need to travel to make sure that when you came to Earth, you only grew 1 year older, but a hundred years passed on earth?"
   ]
  },
  {
   "cell_type": "markdown",
   "metadata": {},
   "source": [
    "*Model answer*\n",
    "\n",
    "*We can first plot the graph of how much time passes for us when 100 years pass on Earth. This is just time dilation for t_o = 100 and velocity changing from 0 to c.*\n",
    "\n",
    "*The place where this graph crosses the graph of time_mine = 1 is what we want.*"
   ]
  },
  {
   "cell_type": "code",
   "execution_count": null,
   "metadata": {},
   "outputs": [],
   "source": [
    "..."
   ]
  },
  {
   "cell_type": "markdown",
   "metadata": {},
   "source": [
    "*We can see that this will definitely happen when velocity v>0.99c. Hence we can have a look at different values of velocity around that area, for example printing a lot of them:*"
   ]
  },
  {
   "cell_type": "code",
   "execution_count": null,
   "metadata": {},
   "outputs": [],
   "source": [
    "..."
   ]
  }
 ],
 "metadata": {
  "kernelspec": {
   "display_name": "Python 3",
   "language": "python",
   "name": "python3"
  },
  "language_info": {
   "codemirror_mode": {
    "name": "ipython",
    "version": 3
   },
   "file_extension": ".py",
   "mimetype": "text/x-python",
   "name": "python",
   "nbconvert_exporter": "python",
   "pygments_lexer": "ipython3",
   "version": "3.8.3"
  }
 },
 "nbformat": 4,
 "nbformat_minor": 4
}
