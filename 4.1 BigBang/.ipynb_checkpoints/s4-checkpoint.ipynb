{
 "cells": [
  {
   "cell_type": "markdown",
   "metadata": {},
   "source": [
    "## Cosmic Background radiation\n",
    "\n",
    "Let's analyze the background radiation of the universe - one of the key pieces of evidence in support of the Big Bang theory.\n",
    "\n",
    "We will first analyze the Planck's Law of Black Body Radiation.\n",
    "\n",
    "Any body with temperature >0 emits radiation (light waves).\n",
    "\n",
    "We can describe the amount of energy emitted by this body per unit area of the body per unit solid angle using the Spectral Radiance.\n",
    "\n",
    "All this sounds complicated, but what it really means is just energy emitted per unit area of the (hot) body, emitted in every direction.\n",
    "\n",
    "If the body has temperatrue $T$, the spectral radiation for emitted radiation with wavelength $\\lambda$ is given by\n",
    "\n",
    "$B(\\lambda, T) = \\frac{2hc^2}{\\lambda^5} \\frac{1}{e^{\\frac{hc}{\\lambda k_B T}}-1}$\n",
    "\n",
    "Here $k_B$ is Boltzmann constant, $h$ is the Planck constant and $c$ is speed of light.\n",
    "\n",
    "Boltzmann constant relates how fast particles are moving in a gas at given temperature.\n",
    "\n",
    "Planck's constant relates photon's energy to its frequency. (Recall that photons behave like waves, so they have frequency!)"
   ]
  },
  {
   "cell_type": "markdown",
   "metadata": {},
   "source": [
    "#### Question 1\n",
    "Write a function that for given temperature will give you the spectral radiation of a black body for different wave lengths. \n",
    "\n",
    "The values of constants you need are provided below."
   ]
  },
  {
   "cell_type": "code",
   "execution_count": 1,
   "metadata": {},
   "outputs": [],
   "source": [
    "#speed of light:\n",
    "c = 3.0e8\n",
    "\n",
    "# Boltzmann constant k_B:\n",
    "k = 1.380649e-23\n",
    "\n",
    "#Planck constant:\n",
    "h=6.626070e-34"
   ]
  },
  {
   "cell_type": "code",
   "execution_count": 2,
   "metadata": {},
   "outputs": [],
   "source": [
    "import numpy as np\n",
    "from matplotlib import pyplot as plt"
   ]
  },
  {
   "cell_type": "code",
   "execution_count": 67,
   "metadata": {},
   "outputs": [],
   "source": [
    "## Your function:\n",
    "def B(lbda,T):\n",
    "    ...\n",
    "    return ..."
   ]
  },
  {
   "cell_type": "markdown",
   "metadata": {},
   "source": [
    "### Question 2\n",
    "Use your function to plot the spectral radiation of the Sun for different wavelengths.\n",
    "\n",
    "Use the wave spectrum from 0 to 2000nm. (nm $= 10^{-9}$m)\n",
    "\n",
    "You can assume that Sun's surface temperature is around 5777K."
   ]
  },
  {
   "cell_type": "code",
   "execution_count": 75,
   "metadata": {},
   "outputs": [],
   "source": [
    "...\n",
    "..."
   ]
  },
  {
   "cell_type": "markdown",
   "metadata": {},
   "source": [
    "#### Question 3\n",
    "Let's consider a family of stars (or other bodies) and see how they will emit energy for different temperatures.\n",
    "\n",
    "Plot the Planck spectral radiation for the following values of surface temperature of the stars.\n",
    "\n",
    "Add the sun to your plot and see how it compares with other bodies!"
   ]
  },
  {
   "cell_type": "code",
   "execution_count": 78,
   "metadata": {},
   "outputs": [],
   "source": [
    "t1=4000\n",
    "t2=5000\n",
    "t3=6000\n",
    "t4=7000"
   ]
  },
  {
   "cell_type": "markdown",
   "metadata": {},
   "source": [
    "#### Question 4\n",
    "\n",
    "If the cosmic background radiation's temperature is 2.725K, what is the wavelength for which most of its energy will be emitted?"
   ]
  },
  {
   "cell_type": "code",
   "execution_count": null,
   "metadata": {},
   "outputs": [],
   "source": [
    "..."
   ]
  }
 ],
 "metadata": {
  "kernelspec": {
   "display_name": "Python 3",
   "language": "python",
   "name": "python3"
  },
  "language_info": {
   "codemirror_mode": {
    "name": "ipython",
    "version": 3
   },
   "file_extension": ".py",
   "mimetype": "text/x-python",
   "name": "python",
   "nbconvert_exporter": "python",
   "pygments_lexer": "ipython3",
   "version": "3.8.3"
  }
 },
 "nbformat": 4,
 "nbformat_minor": 4
}
