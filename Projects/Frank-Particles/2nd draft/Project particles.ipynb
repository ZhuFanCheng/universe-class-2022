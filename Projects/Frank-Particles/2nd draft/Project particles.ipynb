{
 "cells": [
  {
   "cell_type": "code",
   "execution_count": 1,
   "metadata": {},
   "outputs": [],
   "source": [
    "import numpy as np\n",
    "from matplotlib import pyplot as plt\n",
    "\n",
    "# mass of proton:\n",
    "mp = 1.69e-27\n",
    "\n",
    "# unit charge (of a proton)\n",
    "q = 1.6e-19\n",
    "\n",
    "# speed of light \n",
    "c = 3.0e8\n",
    "\n",
    "v=0.99997117*c\n",
    "\n",
    "v_actual=0.999999989335*c\n",
    "\n"
   ]
  },
  {
   "cell_type": "code",
   "execution_count": 2,
   "metadata": {},
   "outputs": [
    {
     "data": {
      "text/plain": [
       "2.0"
      ]
     },
     "execution_count": 2,
     "metadata": {},
     "output_type": "execute_result"
    }
   ],
   "source": [
    "np.sqrt(4)"
   ]
  },
  {
   "cell_type": "markdown",
   "metadata": {},
   "source": [
    "## Particle Colliders Project\n",
    "\n",
    "## Energy required\n",
    "\n",
    "#### Task 1A\n",
    "Plot kinetic energy of **a single proton** moving with speed $v$ as function of $v$. What is the max. energy we can obtain from this proton?\n",
    "\n",
    "#### Task 1B\n",
    "If we need energy of 125GeV to create the Higgs Boson, how fast will **2 protons** have to collide with to provide enough energy for the new particle?\n",
    "\n",
    "*HINT: Your function if you apply the equations directly will return energy in Joules of energy, not electronvolts. You need to change the unit to obtain energy in eV*"
   ]
  },
  {
   "cell_type": "code",
   "execution_count": 3,
   "metadata": {},
   "outputs": [],
   "source": [
    "def kineticenergy(m,v):\n",
    "    ke=m*v**2/2\n",
    "    return ke"
   ]
  },
  {
   "cell_type": "code",
   "execution_count": 4,
   "metadata": {},
   "outputs": [
    {
     "data": {
      "text/plain": [
       "7.605e-11"
      ]
     },
     "execution_count": 4,
     "metadata": {},
     "output_type": "execute_result"
    }
   ],
   "source": [
    "kineticenergy(mp,c)"
   ]
  },
  {
   "cell_type": "code",
   "execution_count": 5,
   "metadata": {},
   "outputs": [],
   "source": [
    "# 1B\n",
    "def energy(m_rest,v):\n",
    "    m_rel=m_rest/np.sqrt(1-v**2/c**2)\n",
    "    ke=m_rel*v**2\n",
    "    gev=ke/1.602176634e-10\n",
    "    return gev\n",
    "    "
   ]
  },
  {
   "cell_type": "code",
   "execution_count": 6,
   "metadata": {},
   "outputs": [
    {
     "data": {
      "text/plain": [
       "125.0142701366097"
      ]
     },
     "execution_count": 6,
     "metadata": {},
     "output_type": "execute_result"
    }
   ],
   "source": [
    "energy(mp,0.99997117*c)"
   ]
  },
  {
   "cell_type": "markdown",
   "metadata": {},
   "source": [
    "## Linear Collider\n",
    "\n",
    "(In this part of the exercise you can neglect relativistic increase of mass of the proton.)\n",
    "\n",
    "#### Task 2A\n",
    "Revise carefully the \"s2\" programming exercise we did in class. Using equations there, derive expression for length of linear accelerator using electric field $E$ to accelerate protons.\n",
    "\n",
    "Write a function that will output the length of a linear collider needed to accelerate protons to the speed you found in Task 1. We assume we are using electric field of strength $E$.\n",
    "\n",
    "#### Task 2B\n",
    "Plot the values of $L$ length of the collider as a function of $E$ the electric field, for the speed you found in task 1.\n",
    "\n",
    "#### Task 2C\n",
    "How long would your linear collider have to be if you apply an electric field $E=1000$? If you fix L = 1000km (roughly the distance from Beijing to Shanghai), what electric field will you require to achieve the speed you need?"
   ]
  },
  {
   "cell_type": "code",
   "execution_count": 7,
   "metadata": {},
   "outputs": [],
   "source": [
    "def length(E,v):\n",
    "    t=(v*mp)/(q*E)\n",
    "    l=(q*E*t**2)/(2*mp)\n",
    "    return l"
   ]
  },
  {
   "cell_type": "code",
   "execution_count": 8,
   "metadata": {},
   "outputs": [
    {
     "data": {
      "text/plain": [
       "475285.09387631493"
      ]
     },
     "execution_count": 8,
     "metadata": {},
     "output_type": "execute_result"
    }
   ],
   "source": [
    "length(1000,v)"
   ]
  },
  {
   "cell_type": "code",
   "execution_count": 9,
   "metadata": {},
   "outputs": [
    {
     "data": {
      "text/plain": [
       "[<matplotlib.lines.Line2D at 0x7fa243805a30>]"
      ]
     },
     "execution_count": 9,
     "metadata": {},
     "output_type": "execute_result"
    },
    {
     "data": {
      "image/png": "[encoded data removed]",
      "text/plain": [
       "<Figure size 432x288 with 1 Axes>"
      ]
     },
     "metadata": {
      "needs_background": "light"
     },
     "output_type": "display_data"
    }
   ],
   "source": [
    "E=np.linspace(1,1000,1000)\n",
    "length=length(E,v)\n",
    "plt.plot(E,length)"
   ]
  },
  {
   "cell_type": "markdown",
   "metadata": {},
   "source": [
    "## Circular collider\n",
    "\n",
    "(In this part of the exercise you can neglect relativistic increase of mass of the proton.)\n",
    "\n",
    "## Task 3A\n",
    "Revise carefully the \"s2\" programming exercise we did in class. Using equations there, derive expression for radius of your collider if you want to achieve the speed calculated in Task 1 and can create magnetic field at most $B=1$T. *(T is the unit of magnetic field strength, it is called \"tesla\", named after the inventor and scientist Nicola Tesla)*\n",
    "\n",
    "## Task 3B\n",
    "If velocity is increasing from 0 to your required speed, how will the required magnetic field change? Plot this."
   ]
  },
  {
   "cell_type": "code",
   "execution_count": 67,
   "metadata": {},
   "outputs": [],
   "source": [
    "def radius(v,B):\n",
    "    r=mp*v/(q*B)\n",
    "    return r"
   ]
  },
  {
   "cell_type": "code",
   "execution_count": 68,
   "metadata": {},
   "outputs": [
    {
     "data": {
      "text/plain": [
       "3.1686586449374996"
      ]
     },
     "execution_count": 68,
     "metadata": {},
     "output_type": "execute_result"
    }
   ],
   "source": [
    "radius(v,1)"
   ]
  },
  {
   "cell_type": "code",
   "execution_count": 69,
   "metadata": {},
   "outputs": [
    {
     "data": {
      "text/plain": [
       "[<matplotlib.lines.Line2D at 0x2d7cc482550>]"
      ]
     },
     "execution_count": 69,
     "metadata": {},
     "output_type": "execute_result"
    },
    {
     "data": {
      "image/png": "[encoded data removed]",
      "text/plain": [
       "<Figure size 432x288 with 1 Axes>"
      ]
     },
     "metadata": {
      "needs_background": "light"
     },
     "output_type": "display_data"
    }
   ],
   "source": [
    "def B(v,r):\n",
    "    b=mp*v/(q*r)\n",
    "    return b\n",
    "\n",
    "v=np.linspace(0,v,1000)\n",
    "magneticfield=B(v,36.36081198452296)\n",
    "plt.plot(v,magneticfield)"
   ]
  },
  {
   "cell_type": "markdown",
   "metadata": {},
   "source": [
    "This does not seem like a lot. But what if we add relativistic mass to the equation?\n",
    "\n",
    "#### Task 3C\n",
    "Modify your equation to account for increasing mass of the proton. What is the new radius required?"
   ]
  },
  {
   "cell_type": "code",
   "execution_count": 10,
   "metadata": {},
   "outputs": [],
   "source": [
    "def newradius(v,B):\n",
    "    deltamass=mp/np.sqrt(1-v**2/c**2)\n",
    "    r=deltamass*v/(q*B)\n",
    "    return r"
   ]
  },
  {
   "cell_type": "code",
   "execution_count": 11,
   "metadata": {},
   "outputs": [
    {
     "data": {
      "text/plain": [
       "417.29316083149354"
      ]
     },
     "execution_count": 11,
     "metadata": {},
     "output_type": "execute_result"
    }
   ],
   "source": [
    "newradius(v,1)"
   ]
  },
  {
   "cell_type": "markdown",
   "metadata": {},
   "source": [
    "## More energy\n",
    "\n",
    "In the LHC experiments, we actually need to provide much, much more energy to create Higg's boson (6.5 TeV $=6.5\\times 10^{12}eV$ to each proton, to give 13 TeV when 2 protons collide).\n",
    "\n",
    "Why do you think this is?\n",
    "\n",
    "#### Task 4\n",
    "Calculate the velocity that the proton needs to achieve to reach 6.5TeV.\n",
    "\n",
    "If we neglect relativistic mass increase and assume $B=7$, how big does our accelerator have to be (in terms of radius)?"
   ]
  },
  {
   "cell_type": "code",
   "execution_count": 12,
   "metadata": {},
   "outputs": [],
   "source": [
    "def tev(m_rest,v):\n",
    "    m_rel=m_rest/np.sqrt(1-v**2/c**2)\n",
    "    ke=m_rel*v**2\n",
    "    tev=ke/1.602176634e-7\n",
    "    return tev"
   ]
  },
  {
   "cell_type": "code",
   "execution_count": 13,
   "metadata": {},
   "outputs": [
    {
     "data": {
      "text/plain": [
       "6.500150070934566"
      ]
     },
     "execution_count": 13,
     "metadata": {},
     "output_type": "execute_result"
    }
   ],
   "source": [
    "tev(mp,0.999999989335*c)\n"
   ]
  },
  {
   "cell_type": "code",
   "execution_count": 14,
   "metadata": {},
   "outputs": [],
   "source": [
    "def actualradius(v_actual,B):\n",
    "    r=mp*v_actual/(q*B)\n",
    "    return r"
   ]
  },
  {
   "cell_type": "code",
   "execution_count": 15,
   "metadata": {},
   "outputs": [
    {
     "data": {
      "text/plain": [
       "0.45267856660075445"
      ]
     },
     "execution_count": 15,
     "metadata": {},
     "output_type": "execute_result"
    }
   ],
   "source": [
    "actualradius(v_actual,7)"
   ]
  },
  {
   "cell_type": "code",
   "execution_count": null,
   "metadata": {},
   "outputs": [],
   "source": []
  }
 ],
 "metadata": {
  "kernelspec": {
   "display_name": "Python 3",
   "language": "python",
   "name": "python3"
  },
  "language_info": {
   "codemirror_mode": {
    "name": "ipython",
    "version": 3
   },
   "file_extension": ".py",
   "mimetype": "text/x-python",
   "name": "python",
   "nbconvert_exporter": "python",
   "pygments_lexer": "ipython3",
   "version": "3.8.3"
  }
 },
 "nbformat": 4,
 "nbformat_minor": 4
}
