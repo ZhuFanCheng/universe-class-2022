{
 "cells": [
  {
   "cell_type": "markdown",
   "metadata": {},
   "source": [
    "## Big Bang project\n",
    "\n",
    "Use your derivation for the wavelength measure by stationary observer $\\lambda_r$ in terms of wavelength emitted by the source $\\lambda_s$ to answer the following questions.\n",
    "\n",
    "### 1. Analysis of the relativistic Doppler effect.\n",
    "\n",
    "#### Part 1A\n",
    "Use your formula to plot the values of the shift $z=\\frac{\\lambda_r}{\\lambda_s}$ for different values of velocity of the source $v$.\n",
    "\n",
    "Include your formula and any conclusions in your report\n",
    "\n",
    "#### Part 1B\n",
    "Let's say we receive $\\lambda_r = 450$nm light on Earth (red visible light).\n",
    "\n",
    "Plot values of possible $\\lambda_s$ as a function of velocities $v$.\n",
    "\n",
    "Include your plot and any conclusions in your report.\n",
    "\n",
    "\n",
    "#### Part 1c\n",
    "Let's say we receive $\\lambda_r = 5cm$ light on Earth (microwaves).\n",
    "\n",
    "A scientist makes a claim: this radiation is due to a huge blue star (wavelength 450nm (nm = $10^{-9}$m)) moving away from Earth.\n",
    "\n",
    "How fast would this star have to move for this claim to make sense?\n",
    "\n",
    "Is this claim likely to be true?\n",
    "\n",
    "What else could be causing this radiation?\n"
   ]
  },
  {
   "cell_type": "code",
   "execution_count": null,
   "metadata": {},
   "outputs": [],
   "source": [
    "from matplotlib import pyplot as plt\n",
    "import numpy as np\n",
    "\n",
    "# Part 1A\n",
    "\n",
    "..."
   ]
  },
  {
   "cell_type": "code",
   "execution_count": null,
   "metadata": {},
   "outputs": [],
   "source": [
    "# Part 1B\n",
    "\n",
    "..."
   ]
  },
  {
   "cell_type": "code",
   "execution_count": null,
   "metadata": {},
   "outputs": [],
   "source": [
    "# Part 1C\n",
    "\n",
    "..."
   ]
  },
  {
   "cell_type": "markdown",
   "metadata": {},
   "source": [
    "#### 2. Colors of stars\n",
    "\n",
    "If a star in a far-away galaxy usually emits mostly blue light of wavelength 460nm (1nm $= 1\\times 10^{-9}$m), with what speed is it moving away if we observe it as a red star emitting most of its light at wavelength 650nm?"
   ]
  },
  {
   "cell_type": "code",
   "execution_count": null,
   "metadata": {},
   "outputs": [],
   "source": [
    "..."
   ]
  },
  {
   "cell_type": "markdown",
   "metadata": {},
   "source": [
    "#### 3. Hubble's Law\n",
    "\n",
    "Let's consider Hubble's Law: $v=HD$ where $v$ is the speed of an object moving away from Earth (e.g. a Galaxy), and $D$ is the distance from Earth to the object.\n",
    "\n",
    "If we observe a redshift such that $\\frac{\\lambda_r}{\\lambda_s}=1.0001$, what is the distance to this star? Can you express this distance in light years?\n",
    "\n",
    "Hubble's constant can be assumed to have the value of $23\\times10^3\\frac{\\text{m}}{\\text{s}\\times 10^6\\text{light years}}$"
   ]
  },
  {
   "cell_type": "code",
   "execution_count": null,
   "metadata": {},
   "outputs": [],
   "source": [
    "..."
   ]
  },
  {
   "cell_type": "markdown",
   "metadata": {},
   "source": [
    "#### 4. When everything becomes a black hole...\n",
    "\n",
    "From Hubble's Law, how far will an object (such as Galaxy) have to be from Earth to move away with $v>c$?"
   ]
  },
  {
   "cell_type": "code",
   "execution_count": null,
   "metadata": {},
   "outputs": [],
   "source": [
    "..."
   ]
  }
 ],
 "metadata": {
  "kernelspec": {
   "display_name": "Python 3",
   "language": "python",
   "name": "python3"
  },
  "language_info": {
   "codemirror_mode": {
    "name": "ipython",
    "version": 3
   },
   "file_extension": ".py",
   "mimetype": "text/x-python",
   "name": "python",
   "nbconvert_exporter": "python",
   "pygments_lexer": "ipython3",
   "version": "3.8.3"
  }
 },
 "nbformat": 4,
 "nbformat_minor": 4
}
