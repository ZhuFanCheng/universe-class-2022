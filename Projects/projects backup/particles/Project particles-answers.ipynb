{
 "cells": [
  {
   "cell_type": "code",
   "execution_count": 1,
   "metadata": {},
   "outputs": [],
   "source": [
    "import numpy as np\n",
    "from matplotlib import pyplot as plt\n",
    "\n",
    "# mass of proton:\n",
    "mp = 1.69e-27\n",
    "\n",
    "# unit charge (of a proton)\n",
    "q = 1.6e-19\n",
    "\n",
    "# speed of light \n",
    "c = 3.0e8"
   ]
  },
  {
   "cell_type": "markdown",
   "metadata": {},
   "source": [
    "## Particle Colliders Project\n",
    "\n",
    "## Energy required\n",
    "\n",
    "#### Task 1A\n",
    "Plot kinetic energy of **a single proton** moving with speed $v$ as function of $v$. What is the max. energy we can obtain from this proton?\n",
    "\n",
    "#### Task 1B\n",
    "If we need energy of 125GeV to create the Higgs Boson, how fast will **2 protons** have to collide with to provide enough energy for the new particle?\n",
    "\n",
    "*HINT: Your function if you apply the equations directly will return energy in Joules of energy, not electronvolts. You need to change the unit to obtain energy in eV*"
   ]
  },
  {
   "cell_type": "code",
   "execution_count": 2,
   "metadata": {},
   "outputs": [
    {
     "name": "stderr",
     "output_type": "stream",
     "text": [
      "<ipython-input-2-db35b9f654f8>:3: RuntimeWarning: divide by zero encountered in true_divide\n",
      "  return 0.5*mp*v**2/np.sqrt(1-v**2/c**2) / (1.6e-19)\n"
     ]
    },
    {
     "data": {
      "text/plain": [
       "Text(0, 0.5, 'kinetic energy')"
      ]
     },
     "execution_count": 2,
     "metadata": {},
     "output_type": "execute_result"
    },
    {
     "data": {
      "image/png": "[encoded data removed]",
      "text/plain": [
       "<Figure size 432x288 with 1 Axes>"
      ]
     },
     "metadata": {
      "needs_background": "light"
     },
     "output_type": "display_data"
    }
   ],
   "source": [
    "# 1A\n",
    "def energy(v):\n",
    "    return 0.5*mp*v**2/np.sqrt(1-v**2/c**2) / (1.6e-19)\n",
    "\n",
    "v = np.linspace(0,c,1000)\n",
    "plt.plot(v,energy(v))\n",
    "plt.xlabel('speed of proton')\n",
    "plt.ylabel('kinetic energy')"
   ]
  },
  {
   "cell_type": "code",
   "execution_count": 3,
   "metadata": {},
   "outputs": [
    {
     "data": {
      "text/plain": [
       "7.605e-11"
      ]
     },
     "execution_count": 3,
     "metadata": {},
     "output_type": "execute_result"
    }
   ],
   "source": [
    "0.5*mp*c**2"
   ]
  },
  {
   "cell_type": "code",
   "execution_count": 6,
   "metadata": {},
   "outputs": [
    {
     "name": "stdout",
     "output_type": "stream",
     "text": [
      "energy for v = 0.99c is  0.5376606032115494\n",
      "energy for v = 0.99999c is  1.700499937719365\n"
     ]
    }
   ],
   "source": [
    "# 1B\n",
    "\n",
    "# first, let's find the rough region where we should look for:\n",
    "print(\"energy for v = 0.99c is \", 2*energy(0.9999*c)/(125e9))\n",
    "print(\"energy for v = 0.99999c is \", 2*energy(0.99999*c)/(125e9))"
   ]
  },
  {
   "cell_type": "code",
   "execution_count": 109,
   "metadata": {},
   "outputs": [],
   "source": [
    "# now we can use binary search (or some other method) to find the answer, or just try a couple more values:"
   ]
  },
  {
   "cell_type": "code",
   "execution_count": 7,
   "metadata": {},
   "outputs": [
    {
     "name": "stdout",
     "output_type": "stream",
     "text": [
      "energy for v = 0.99999c is  1.000087968002713\n"
     ]
    }
   ],
   "source": [
    "print(\"energy for v = 0.99999c is \", 2*energy(0.99997109*c)/(125e9))"
   ]
  },
  {
   "cell_type": "markdown",
   "metadata": {},
   "source": [
    "## Linear Collider\n",
    "\n",
    "(In this part of the exercise you can neglect relativistic increase of mass of the proton.)\n",
    "\n",
    "#### Task 2A\n",
    "Revise carefully the \"s2\" programming exercise we did in class. Using equations there, derive expression for length of linear accelerator using electric field $E$ to accelerate protons.\n",
    "\n",
    "Write a function that will output the length of a linear collider needed to accelerate protons to the speed you found in Task 1. We assume we are using electric field of strength $E$.\n",
    "\n",
    "#### Task 2B\n",
    "Plot the values of $L$ length of the collider as a function of $E$ the electric field, for the speed you found in task 1.\n",
    "\n",
    "#### Task 2C\n",
    "How long would your linear collider have to be if you apply an electric field $E=1000$? If you fix L = 1000km (roughly the distance from Beijing to Shanghai), what electric field will you require to achieve the speed you need?"
   ]
  },
  {
   "cell_type": "code",
   "execution_count": 4,
   "metadata": {},
   "outputs": [],
   "source": [
    "def L(v,E):\n",
    "    return v**2 * mp / 2 / q / E"
   ]
  },
  {
   "cell_type": "code",
   "execution_count": 5,
   "metadata": {},
   "outputs": [
    {
     "data": {
      "text/plain": [
       "Text(0, 0.5, 'length needed')"
      ]
     },
     "execution_count": 5,
     "metadata": {},
     "output_type": "execute_result"
    },
    {
     "data": {
      "image/png": "[encoded data removed]",
      "text/plain": [
       "<Figure size 432x288 with 1 Axes>"
      ]
     },
     "metadata": {
      "needs_background": "light"
     },
     "output_type": "display_data"
    }
   ],
   "source": [
    "v = 0.99997109*c\n",
    "E = np.linspace(0.1,1,1000)\n",
    "plt.plot(E,L(v,E))\n",
    "plt.xlabel('electric field')\n",
    "plt.ylabel('length needed')"
   ]
  },
  {
   "cell_type": "code",
   "execution_count": 6,
   "metadata": {},
   "outputs": [
    {
     "data": {
      "text/plain": [
       "475285.0178285106"
      ]
     },
     "execution_count": 6,
     "metadata": {},
     "output_type": "execute_result"
    }
   ],
   "source": [
    "L(v,1000)"
   ]
  },
  {
   "cell_type": "code",
   "execution_count": 7,
   "metadata": {},
   "outputs": [
    {
     "name": "stdout",
     "output_type": "stream",
     "text": [
      "for fixed L=1000km, we need electric field E=  475.2850178285106\n"
     ]
    }
   ],
   "source": [
    "print(\"for fixed L=1000km, we need electric field E= \", v**2 * mp / 2 / q / 1e6)"
   ]
  },
  {
   "cell_type": "markdown",
   "metadata": {},
   "source": [
    "## Circular collider\n",
    "\n",
    "(In this part of the exercise you can neglect relativistic increase of mass of the proton.)\n",
    "\n",
    "## Task 3A\n",
    "Revise carefully the \"s2\" programming exercise we did in class. Using equations there, derive expression for radius of your collider if you want to achieve the speed calculated in Task 1 and can create magnetic field at most $B=1$T. *(T is the unit of magnetic field strength, it is called \"tesla\", named after the inventor and scientist Nicola Tesla)*\n",
    "\n",
    "## Task 3B\n",
    "If velocity is increasing from 0 to your required speed, how will the required magnetic field change? Plot this."
   ]
  },
  {
   "cell_type": "code",
   "execution_count": 8,
   "metadata": {},
   "outputs": [
    {
     "name": "stdout",
     "output_type": "stream",
     "text": [
      "Max radius when B=1 is  3.1686583914375\n"
     ]
    },
    {
     "data": {
      "text/plain": [
       "[<matplotlib.lines.Line2D at 0x7fa1f91734f0>]"
      ]
     },
     "execution_count": 8,
     "metadata": {},
     "output_type": "execute_result"
    },
    {
     "data": {
      "image/png": "[encoded data removed]",
      "text/plain": [
       "<Figure size 432x288 with 1 Axes>"
      ]
     },
     "metadata": {
      "needs_background": "light"
     },
     "output_type": "display_data"
    }
   ],
   "source": [
    "def radius(vmax,B):\n",
    "    return mp*vmax/q/B\n",
    "print(\"Max radius when B=1 is \",radius(v,1))\n",
    "\n",
    "R=radius(v,1)\n",
    "\n",
    "def B(v):\n",
    "    return mp*v/q/R\n",
    "\n",
    "v_vec = np.linspace(0,v,1000)\n",
    "\n",
    "plt.plot(v_vec,B(v_vec))"
   ]
  },
  {
   "cell_type": "markdown",
   "metadata": {},
   "source": [
    "This does not seem like a lot. But what if we add relativistic mass to the equation?\n",
    "\n",
    "#### Task 3C\n",
    "Modify your equation to account for increasing mass of the proton. What is the new radius required?"
   ]
  },
  {
   "cell_type": "code",
   "execution_count": 10,
   "metadata": {},
   "outputs": [
    {
     "name": "stdout",
     "output_type": "stream",
     "text": [
      "Max radius when B=1 is  416.71536724239735\n"
     ]
    }
   ],
   "source": [
    "def r_rel(vmax,B):\n",
    "    return mp*vmax/q/B/np.sqrt(1-v**2/c**2)\n",
    "print(\"Max radius when B=1 is \",r_rel(v,1))"
   ]
  },
  {
   "cell_type": "markdown",
   "metadata": {},
   "source": [
    "## More energy\n",
    "\n",
    "In the LHC experiments, we actually need to provide much, much more energy to create Higg's boson (6.5 TeV $=6.5\\times 10^{12}eV$ to each proton, to give 13 TeV when 2 protons collide).\n",
    "\n",
    "Why do you think this is?\n",
    "\n",
    "#### Task 4\n",
    "Calculate the velocity that the proton needs to achieve to reach 6.5TeV.\n",
    "\n",
    "If we neglect relativistic mass increase and assume $B=7$, how big does our accelerator have to be (in terms of radius)?"
   ]
  },
  {
   "cell_type": "code",
   "execution_count": 31,
   "metadata": {},
   "outputs": [
    {
     "name": "stdout",
     "output_type": "stream",
     "text": [
      "energy for v = 0.99999c is  1.000258679906429\n"
     ]
    }
   ],
   "source": [
    "print(\"energy for v = 0.99999c is \", 2*energy(0.999999989311*c)/(6.5e12))"
   ]
  },
  {
   "cell_type": "code",
   "execution_count": null,
   "metadata": {},
   "outputs": [],
   "source": []
  }
 ],
 "metadata": {
  "kernelspec": {
   "display_name": "Python 3",
   "language": "python",
   "name": "python3"
  },
  "language_info": {
   "codemirror_mode": {
    "name": "ipython",
    "version": 3
   },
   "file_extension": ".py",
   "mimetype": "text/x-python",
   "name": "python",
   "nbconvert_exporter": "python",
   "pygments_lexer": "ipython3",
   "version": "3.8.3"
  }
 },
 "nbformat": 4,
 "nbformat_minor": 4
}
