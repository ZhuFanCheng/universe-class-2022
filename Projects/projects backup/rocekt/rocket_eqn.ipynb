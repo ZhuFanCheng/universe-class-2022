{
 "cells": [
  {
   "cell_type": "markdown",
   "metadata": {},
   "source": [
    "## Rocket Equation project\n",
    "Tasks 5 and 6\n",
    "\n",
    "#### Task 5\n",
    "Use the approximation $t = [0, \\Delta t, 2\\Delta t, \\ldots, N\\Delta t]$ and $V^n = V(n\\Delta t)$ to numerically solve your rocket equation when $m(t) = 0.5 - 0.002t$, for different values of $v_e$\n",
    "\n",
    "Investigate what happens for different values of $v_e$. In your report, explain why you think this happens.\n",
    "\n",
    "**Hint:** *You may want to try e.g. very small and very large values of $v_e$. You can also adjust the max. time to see what happens in the long term*\n",
    "\n",
    "Rememeber to include the relevant charts in your report!"
   ]
  },
  {
   "cell_type": "code",
   "execution_count": null,
   "metadata": {},
   "outputs": [],
   "source": [
    "import numpy as np\n",
    "from matplotlib import pyplot as plt"
   ]
  },
  {
   "cell_type": "code",
   "execution_count": null,
   "metadata": {},
   "outputs": [],
   "source": [
    "# find V(t) \n",
    "..."
   ]
  },
  {
   "cell_type": "code",
   "execution_count": null,
   "metadata": {},
   "outputs": [],
   "source": [
    "# plot\n",
    "..."
   ]
  },
  {
   "cell_type": "markdown",
   "metadata": {},
   "source": [
    "#### Task 6A\n",
    "Change your mass function to $m(t) = 0.5 - 0.2t$ and repeat the analysis. What do you conclude?"
   ]
  },
  {
   "cell_type": "markdown",
   "metadata": {},
   "source": [
    "#### Task 6B\n",
    "Change your mass function to $m(t) = 0.5 - 0.02t^2$. In this case (you can figure this out using basic calculus), rate of change of mass will be $\\frac{\\Delta m}{\\Delta t}=-0.04t$. \n",
    "\n",
    "Solve your problem again and repeat the analysis. What do you conclude? Why do you think this happens?"
   ]
  },
  {
   "cell_type": "code",
   "execution_count": null,
   "metadata": {},
   "outputs": [],
   "source": [
    "..."
   ]
  }
 ],
 "metadata": {
  "kernelspec": {
   "display_name": "Python 3",
   "language": "python",
   "name": "python3"
  },
  "language_info": {
   "codemirror_mode": {
    "name": "ipython",
    "version": 3
   },
   "file_extension": ".py",
   "mimetype": "text/x-python",
   "name": "python",
   "nbconvert_exporter": "python",
   "pygments_lexer": "ipython3",
   "version": "3.8.3"
  }
 },
 "nbformat": 4,
 "nbformat_minor": 4
}
