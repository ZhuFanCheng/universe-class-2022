{
 "cells": [
  {
   "cell_type": "markdown",
   "metadata": {},
   "source": [
    "## Particle accelerators\n",
    "\n",
    "We are constructing a particle accelerator and need to be able to estimate how big alectric and magnetic fields we need to apply so that we can smash together protons and see what they are made of.\n",
    "\n",
    "We will first use Newton's laws of motion which you know from school to find the velocity and position of the particle (distance it travelled in our accelerator) as a function of the electric field we apply.\n",
    "\n",
    "We will then use Lorentz force to see how our magnetic field has to change to keep the particle on a circular path in our accelerator."
   ]
  },
  {
   "cell_type": "markdown",
   "metadata": {},
   "source": [
    "### 1. Electric field\n",
    "Equation of motion tells us that without initial velocity, velocity at time t and displacement at time t are:\n",
    "\n",
    "$v(t) = at$\n",
    "\n",
    "\n",
    "$x(t) = \\frac{1}{2} a t^2$\n",
    "\n",
    "where $a$ is the acceleration\n",
    "\n",
    "\n",
    "Recall from Newton's 2nd law that \n",
    "\n",
    "$F = ma$\n",
    "\n",
    "That is, applying a force F to a body of mass m we will give it acceleration a.\n",
    "\n",
    "In electricity (you might know this from physics classes as well), we know that applying an electric field E to a particle of charge q will result in a force $qE$ acting on the particle.\n",
    "\n",
    "\n",
    "Assume that we are accelerating electrons with mass\n",
    "\n",
    "$m = 9.1\\times 10^{-31}$kg\n",
    "\n",
    "and electric charge\n",
    "\n",
    "$q = -1.6\\times 10^{-19}$\n",
    "\n",
    "We apply an electric field \n",
    "\n",
    "$E = 0.02\\frac{\\text{N}}{\\text{C}}$"
   ]
  },
  {
   "cell_type": "markdown",
   "metadata": {},
   "source": [
    "### 1.1\n",
    "Write a function to calculate the time it takes the electron to achieve the given final velocity.\n",
    "\n",
    "### 1.2\n",
    "Use your function to find the time it takes to achieve 90% of the speed of light, 99% of the speed of light and 99.99% of the speed of light\n",
    "\n",
    "### 1.3\n",
    "How long would it take to accelerate a proton in the same accelerator to 99.99%c?\n",
    "\n",
    "Protons have mass\n",
    "\n",
    "$m = 1.69\\times 10^{-27}$kg"
   ]
  },
  {
   "cell_type": "code",
   "execution_count": 2,
   "metadata": {},
   "outputs": [
    {
     "name": "stdout",
     "output_type": "stream",
     "text": [
      "time to achieve 90%c:  0.07678125000000001  seconds\n",
      "time to achieve 99%c:  0.08445937499999999  seconds\n",
      "time to achieve 99.99%c:  0.08530396875  seconds\n",
      "time to accelerate a proton to 99.99%c:  158.42165625  seconds\n"
     ]
    }
   ],
   "source": [
    "## constants:\n",
    "m = 9.1e-31\n",
    "q = -1.6e-19\n",
    "E = 0.02\n",
    "c = 3.0e8\n",
    "\n",
    "## 1.1\n",
    "def time(v_final,m):\n",
    "    t = v_final*m / -q / E\n",
    "    return t\n",
    "\n",
    "## 1.2\n",
    "print(\"time to achieve 90%c: \", str(time(0.9*c,m)), \" seconds\")\n",
    "print(\"time to achieve 99%c: \", str(time(0.99*c,m)), \" seconds\")\n",
    "print(\"time to achieve 99.99%c: \", str(time(0.9999*c,m)), \" seconds\")\n",
    "\n",
    "## 1.3\n",
    "mp = 1.69e-27\n",
    "print(\"time to accelerate a proton to 99.99%c: \", str(time(0.9999*c,mp)),\" seconds\")"
   ]
  },
  {
   "cell_type": "markdown",
   "metadata": {},
   "source": [
    "## 1.4\n",
    "Rewrite your function to give the electric field as output, and take as input the final velocity we want to achieve. Assume we accelerate the particles in $15s$."
   ]
  },
  {
   "cell_type": "code",
   "execution_count": 3,
   "metadata": {},
   "outputs": [
    {
     "ename": "TypeError",
     "evalue": "time() missing 1 required positional argument: 'm'",
     "output_type": "error",
     "traceback": [
      "\u001b[0;31m---------------------------------------------------------------------------\u001b[0m",
      "\u001b[0;31mTypeError\u001b[0m                                 Traceback (most recent call last)",
      "\u001b[0;32m<ipython-input-3-9ed3820dce96>\u001b[0m in \u001b[0;36m<module>\u001b[0;34m\u001b[0m\n\u001b[0;32m----> 1\u001b[0;31m \u001b[0mprint\u001b[0m\u001b[0;34m(\u001b[0m\u001b[0;34m\"time to achieve 99%c: \"\u001b[0m\u001b[0;34m,\u001b[0m \u001b[0mstr\u001b[0m\u001b[0;34m(\u001b[0m\u001b[0mtime\u001b[0m\u001b[0;34m(\u001b[0m\u001b[0;36m0.99\u001b[0m\u001b[0;34m*\u001b[0m\u001b[0mc\u001b[0m\u001b[0;34m)\u001b[0m\u001b[0;34m)\u001b[0m\u001b[0;34m)\u001b[0m\u001b[0;34m\u001b[0m\u001b[0;34m\u001b[0m\u001b[0m\n\u001b[0m",
      "\u001b[0;31mTypeError\u001b[0m: time() missing 1 required positional argument: 'm'"
     ]
    }
   ],
   "source": [
    "print(\"time to achieve 99%c: \", str(time(0.99*c)))"
   ]
  },
  {
   "cell_type": "markdown",
   "metadata": {},
   "source": [
    "### 1.5\n",
    "\n",
    "Define a function that will tell us the displacement (distance) of our proton after given time $t$.\n",
    "\n",
    "### 1.6\n",
    "\n",
    "Find the displacement of the proton after 15seconds if we launch from 0 initial velocity.\n",
    "\n",
    "### 1.7\n",
    "If our accelerator is circular with radius $R = 100$m, how many full circles has the proton traveled after 15seconds?\n",
    "\n",
    "**HINT:** *In Python we can use the constant $\\pi$ by using the function \"pi\" from \"math\" library*"
   ]
  },
  {
   "cell_type": "code",
   "execution_count": 4,
   "metadata": {},
   "outputs": [],
   "source": [
    "import math"
   ]
  },
  {
   "cell_type": "code",
   "execution_count": 5,
   "metadata": {},
   "outputs": [
    {
     "name": "stdout",
     "output_type": "stream",
     "text": [
      "The proton travelled  213017751.47928992  meters\n"
     ]
    }
   ],
   "source": [
    "def distance(t,m):\n",
    "    d = 0.5 *-q *E * t**2 / m\n",
    "    return d\n",
    "print(\"The proton travelled \", distance(15,mp), \" meters\")"
   ]
  },
  {
   "cell_type": "code",
   "execution_count": 6,
   "metadata": {},
   "outputs": [
    {
     "name": "stdout",
     "output_type": "stream",
     "text": [
      "The proton traveled 339028.0  full circles\n"
     ]
    }
   ],
   "source": [
    "circumference = 2*math.pi*100\n",
    "print(\"The proton traveled\", str(round(distance(15,mp)/circumference,0)),\" full circles\")"
   ]
  },
  {
   "cell_type": "markdown",
   "metadata": {},
   "source": [
    "## 2. The magnetic field\n",
    "\n",
    "For any body moving along a circular path there will be a force acting on it in the direction of the center of the circle. This is the centrifugal force. If the body's mass is $m$ and it travels with the speed $v$ along a circular path of radius $R$, the centrifugal force acting on it is equal to:\n",
    "\n",
    "$F_c = \\frac{mv^2}{R}$\n",
    "\n",
    "We will keep the particle from flying away and escaping us by using the magnetic field. If we have a particle of electric charge $q$ traveling with speed $v$ in a magnetic field $B$, there will be a force acting on it, called the Lorentz force:\n",
    "\n",
    "$F_L = qvB$\n",
    "\n",
    "We will use Newton's third law to make sure our particle stays on a circular orbit with constant radius $R$. This is possible if $F_c$ acting out of the circle and $F_L$ acting into the circle balance each other out perfectly:\n",
    "\n",
    "$F_c = F_L$"
   ]
  },
  {
   "cell_type": "markdown",
   "metadata": {},
   "source": [
    "#### 2.1\n",
    "Derive the formula for magnetic field $B$ as a function of final velocity $v$ for our circular particle accelerator of radius $100$m. Define a function that calculates it and plot $B(v)$ where $v$ changes from 0 to $c$."
   ]
  },
  {
   "cell_type": "code",
   "execution_count": 64,
   "metadata": {},
   "outputs": [],
   "source": [
    "def magnetic_field(v,m):\n",
    "    R=4400\n",
    "    return mp*v/-q/R"
   ]
  },
  {
   "cell_type": "code",
   "execution_count": 65,
   "metadata": {},
   "outputs": [],
   "source": [
    "import numpy as np\n",
    "from matplotlib import pyplot as plt"
   ]
  },
  {
   "cell_type": "code",
   "execution_count": 66,
   "metadata": {},
   "outputs": [],
   "source": [
    "v = np.linspace(0,c,1000)"
   ]
  },
  {
   "cell_type": "code",
   "execution_count": 67,
   "metadata": {},
   "outputs": [
    {
     "data": {
      "text/plain": [
       "Text(0, 0.5, 'magnetic field')"
      ]
     },
     "execution_count": 67,
     "metadata": {},
     "output_type": "execute_result"
    },
    {
     "data": {
      "image/png": "[encoded data removed]",
      "text/plain": [
       "<Figure size 432x288 with 1 Axes>"
      ]
     },
     "metadata": {
      "needs_background": "light"
     },
     "output_type": "display_data"
    }
   ],
   "source": [
    "plt.plot(v,magnetic_field(v,mp))\n",
    "plt.xlabel('velocity')\n",
    "plt.ylabel('magnetic field')"
   ]
  }
 ],
 "metadata": {
  "kernelspec": {
   "display_name": "Python 3",
   "language": "python",
   "name": "python3"
  },
  "language_info": {
   "codemirror_mode": {
    "name": "ipython",
    "version": 3
   },
   "file_extension": ".py",
   "mimetype": "text/x-python",
   "name": "python",
   "nbconvert_exporter": "python",
   "pygments_lexer": "ipython3",
   "version": "3.8.3"
  }
 },
 "nbformat": 4,
 "nbformat_minor": 4
}
