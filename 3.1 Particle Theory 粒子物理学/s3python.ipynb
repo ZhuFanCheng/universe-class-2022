{
 "cells": [
  {
   "cell_type": "markdown",
   "metadata": {},
   "source": [
    "## Particle accelerators\n",
    "\n",
    "We are constructing a particle accelerator and need to be able to estimate how big alectric and magnetic fields we need to apply so that we can smash together protons and see what they are made of.\n",
    "\n",
    "We will first use Newton's laws of motion which you know from school to find the velocity and position of the particle (distance it travelled in our accelerator) as a function of the electric field we apply.\n",
    "\n",
    "We will then use Lorentz force to see how our magnetic field has to change to keep the particle on a circular path in our accelerator."
   ]
  },
  {
   "cell_type": "markdown",
   "metadata": {},
   "source": [
    "### 1. Electric field\n",
    "Equation of motion tells us that without initial velocity, velocity at time t and displacement at time t are:\n",
    "\n",
    "$v(t) = at$\n",
    "\n",
    "\n",
    "$x(t) = \\frac{1}{2} a t^2$\n",
    "\n",
    "where $a$ is the acceleration\n",
    "\n",
    "\n",
    "Recall from Newton's 2nd law that \n",
    "\n",
    "$F = ma$\n",
    "\n",
    "That is, applying a force F to a body of mass m we will give it acceleration a.\n",
    "\n",
    "In electricity (you might know this from physics classes as well), we know that applying an electric field E to a particle of charge q will result in a force $qE$ acting on the particle.\n",
    "\n",
    "\n",
    "Assume that we are accelerating electrons with mass\n",
    "\n",
    "$m = 9.1\\times 10^{-31}$kg\n",
    "\n",
    "and electric charge\n",
    "\n",
    "$q = -1.6\\times 10^{-19}$\n",
    "\n",
    "We apply an electric field \n",
    "\n",
    "$E = 0.02\\frac{\\text{N}}{\\text{C}}$"
   ]
  },
  {
   "cell_type": "markdown",
   "metadata": {},
   "source": [
    "### 1.1\n",
    "Write a function to calculate the time it takes the electron to achieve the given final velocity.\n",
    "\n",
    "### 1.2\n",
    "Use your function to find the time it takes to achieve 90% of the speed of light, 99% of the speed of light and 99.99% of the speed of light\n",
    "\n",
    "### 1.3\n",
    "How long would it take to accelerate a proton in the same accelerator to 99.99%c?\n",
    "\n",
    "Protons have mass\n",
    "\n",
    "$m = 1.69\\times 10^{-27}$kg"
   ]
  },
  {
   "cell_type": "code",
   "execution_count": null,
   "metadata": {},
   "outputs": [],
   "source": [
    "## constants:\n",
    "m = \n",
    "q = \n",
    "E = \n",
    "c = 300000000\n",
    "\n",
    "## 1.1\n",
    "def time(v_final,m):\n",
    "    ...\n",
    "\n",
    "## 1.2\n",
    "print(\"time to achieve 90%c: \", ..., \" seconds\")\n",
    "print(\"time to achieve 99%c: \", ..., \" seconds\")\n",
    "print(\"time to achieve 99.99%c: \", ..., \" seconds\")\n",
    "\n",
    "## 1.3\n",
    "...\n",
    "print(\"time to accelerate a proton to 99.99%c: \", ...,\" seconds\")"
   ]
  },
  {
   "cell_type": "markdown",
   "metadata": {},
   "source": [
    "## 1.4\n",
    "Rewrite your function to give the electric field as output, and take as input the final velocity we want to achieve. Assume we accelerate the particles in $15s$."
   ]
  },
  {
   "cell_type": "code",
   "execution_count": null,
   "metadata": {},
   "outputs": [],
   "source": [
    "..."
   ]
  },
  {
   "cell_type": "markdown",
   "metadata": {},
   "source": [
    "### 1.5\n",
    "\n",
    "Define a function that will tell us the displacement (distance) of our proton after given time $t$.\n",
    "\n",
    "### 1.6\n",
    "\n",
    "Find the displacement of the proton after 15seconds if we launch from 0 initial velocity.\n",
    "\n",
    "### 1.7\n",
    "If our accelerator is circular with radius $R = 100$m, how many full circles has the proton traveled after 15seconds?\n",
    "\n",
    "**HINT:** *In Python we can use the constant $\\pi$ by using the function \"pi\" from \"math\" library*"
   ]
  },
  {
   "cell_type": "code",
   "execution_count": null,
   "metadata": {},
   "outputs": [],
   "source": [
    "..."
   ]
  },
  {
   "cell_type": "code",
   "execution_count": null,
   "metadata": {},
   "outputs": [],
   "source": [
    "def distance(t,m):\n",
    "    ...\n",
    "print(\"The proton travelled \", ..., \" meters\")"
   ]
  },
  {
   "cell_type": "code",
   "execution_count": null,
   "metadata": {},
   "outputs": [],
   "source": [
    "...\n",
    "print(\"The proton traveled\", ...,\" full circles\")"
   ]
  },
  {
   "cell_type": "markdown",
   "metadata": {},
   "source": [
    "## 2. The magnetic field\n",
    "\n",
    "For any body moving along a circular path there will be a force acting on it in the direction of the center of the circle. This is the centrifugal force. If the body's mass is $m$ and it travels with the speed $v$ along a circular path of radius $R$, the centrifugal force acting on it is equal to:\n",
    "\n",
    "$F_c = \\frac{mv^2}{R}$\n",
    "\n",
    "We will keep the particle from flying away and escaping us by using the magnetic field. If we have a particle of electric charge $q$ traveling with speed $v$ in a magnetic field $B$, there will be a force acting on it, called the Lorentz force:\n",
    "\n",
    "$F_L = qvB$\n",
    "\n",
    "We will use Newton's third law to make sure our particle stays on a circular orbit with constant radius $R$. This is possible if $F_c$ acting out of the circle and $F_L$ acting into the circle balance each other out perfectly:\n",
    "\n",
    "$F_c = F_L$"
   ]
  },
  {
   "cell_type": "markdown",
   "metadata": {},
   "source": [
    "#### 2.1\n",
    "Derive the formula for magnetic field $B$ as a function of final velocity $v$ for our circular particle accelerator of radius $100$m. Define a function that calculates it and plot $B(v)$ where $v$ changes from 0 to $c$."
   ]
  },
  {
   "cell_type": "code",
   "execution_count": null,
   "metadata": {},
   "outputs": [],
   "source": [
    "def magnetic_field(v,m):\n",
    "    ..."
   ]
  },
  {
   "cell_type": "code",
   "execution_count": null,
   "metadata": {},
   "outputs": [],
   "source": [
    "import numpy as np\n",
    "from matplotlib import pyplot as plt"
   ]
  },
  {
   "cell_type": "code",
   "execution_count": null,
   "metadata": {},
   "outputs": [],
   "source": [
    "v = ... "
   ]
  },
  {
   "cell_type": "code",
   "execution_count": null,
   "metadata": {},
   "outputs": [],
   "source": [
    "# plot\n",
    "..."
   ]
  },
  {
   "cell_type": "markdown",
   "metadata": {},
   "source": [
    "## 3.1\n",
    "What will the energy of the collision be when two protons traveling with speed $99.99\\% c$ in opposite directions collide?\n",
    "\n",
    "## 3.1\n",
    "If we apply Einstein's mass-energy equivalence principle $E=mc^2$ to a single proton, what will the energy equal?"
   ]
  },
  {
   "cell_type": "code",
   "execution_count": null,
   "metadata": {},
   "outputs": [],
   "source": [
    "## 3.1\n",
    "..."
   ]
  },
  {
   "cell_type": "code",
   "execution_count": null,
   "metadata": {},
   "outputs": [],
   "source": [
    "## 3.2\n",
    "..."
   ]
  },
  {
   "cell_type": "code",
   "execution_count": null,
   "metadata": {},
   "outputs": [],
   "source": []
  }
 ],
 "metadata": {
  "kernelspec": {
   "display_name": "Python 3",
   "language": "python",
   "name": "python3"
  },
  "language_info": {
   "codemirror_mode": {
    "name": "ipython",
    "version": 3
   },
   "file_extension": ".py",
   "mimetype": "text/x-python",
   "name": "python",
   "nbconvert_exporter": "python",
   "pygments_lexer": "ipython3",
   "version": "3.8.3"
  }
 },
 "nbformat": 4,
 "nbformat_minor": 4
}
