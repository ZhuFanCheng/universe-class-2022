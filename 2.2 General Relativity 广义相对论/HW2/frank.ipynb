{
 "cells": [
  {
   "cell_type": "markdown",
   "metadata": {},
   "source": [
    "## Special Relativity\n",
    "\n",
    "Imagine that we are building a next generate spaceship that will use our \"Hyper Energy\" propulsion system to accelerate our ship to speeds over 10% the speed of light.\n",
    "\n",
    "However, we also need to understand better how our perception of reality will change as compared to the team we leave on Earth.\n",
    "\n",
    "Special relativity tells us that objects moving with very high speeds - close to the speed of light - will behave in strange ways.\n",
    "\n",
    "For example, their mass will increase, theit time will slow down, and their length will shrink.\n",
    "\n",
    "In this programing exercise, we will write functions to quickly calculate\n",
    "- relativistic mass\n",
    "- time dilation\n",
    "- length contraction"
   ]
  },
  {
   "cell_type": "code",
   "execution_count": 1,
   "metadata": {},
   "outputs": [],
   "source": [
    "c = 300000000\n",
    "import numpy as np\n",
    "from matplotlib import pyplot as plt"
   ]
  },
  {
   "cell_type": "markdown",
   "metadata": {},
   "source": [
    "### 1. Relativistic mass\n",
    "\n",
    "Write a function that will tell you, given your initial mass m0 when at rest on Earth, and given your speed v, will give you your relativistic speed at v."
   ]
  },
  {
   "cell_type": "code",
   "execution_count": 2,
   "metadata": {},
   "outputs": [],
   "source": [
    "def rel_mass(m0,v):\n",
    "    mm=m0/np.sqrt(1-v**2/c**2)\n",
    "    return mm"
   ]
  },
  {
   "cell_type": "code",
   "execution_count": 3,
   "metadata": {},
   "outputs": [
    {
     "data": {
      "text/plain": [
       "106.06601717798213"
      ]
     },
     "execution_count": 3,
     "metadata": {},
     "output_type": "execute_result"
    }
   ],
   "source": [
    "rel_mass(100,c/3)"
   ]
  },
  {
   "cell_type": "markdown",
   "metadata": {},
   "source": [
    "### 2. Time dilation\n",
    "\n",
    "Write a function that will tell you, given your speed v and the time that passed on Earth t_o will give you your time t_m"
   ]
  },
  {
   "cell_type": "code",
   "execution_count": 4,
   "metadata": {},
   "outputs": [
    {
     "name": "stdout",
     "output_type": "stream",
     "text": [
      "7.8997721486129\n"
     ]
    }
   ],
   "source": [
    "c = 300000000\n",
    "v = 0.99*c\n",
    "\n",
    "to = 56\n",
    "tm = to*np.sqrt(1-v**2/c**2)\n",
    "print(tm)"
   ]
  },
  {
   "cell_type": "code",
   "execution_count": 5,
   "metadata": {},
   "outputs": [],
   "source": [
    "def tm(v, to):\n",
    "    timemoving=to*np.sqrt(1-v**2/c**2)\n",
    "    return timemoving"
   ]
  },
  {
   "cell_type": "code",
   "execution_count": 6,
   "metadata": {},
   "outputs": [
    {
     "data": {
      "text/plain": [
       "44.71017781221602"
      ]
     },
     "execution_count": 6,
     "metadata": {},
     "output_type": "execute_result"
    }
   ],
   "source": [
    "tm(0.999*c, 1000)"
   ]
  },
  {
   "cell_type": "code",
   "execution_count": 7,
   "metadata": {},
   "outputs": [],
   "source": [
    "def sum(a,b):\n",
    "    return a+b"
   ]
  },
  {
   "cell_type": "code",
   "execution_count": 8,
   "metadata": {},
   "outputs": [
    {
     "data": {
      "text/plain": [
       "7"
      ]
     },
     "execution_count": 8,
     "metadata": {},
     "output_type": "execute_result"
    }
   ],
   "source": [
    "sum(3,4)"
   ]
  },
  {
   "cell_type": "markdown",
   "metadata": {},
   "source": [
    "### 3. Length contraction\n",
    "\n",
    "Write a function that will tell you, given your speed v and the length of your ship that you measure L, will give you what the obsever on Earht will measure if they watch your ship."
   ]
  },
  {
   "cell_type": "code",
   "execution_count": 9,
   "metadata": {},
   "outputs": [],
   "source": [
    "def l_contr(L,v):\n",
    "    lo=L/np.sqrt(1-v**2/c**2)\n",
    "    return lo\n",
    "    "
   ]
  },
  {
   "cell_type": "code",
   "execution_count": 10,
   "metadata": {},
   "outputs": [
    {
     "data": {
      "text/plain": [
       "7088.812050083355"
      ]
     },
     "execution_count": 10,
     "metadata": {},
     "output_type": "execute_result"
    }
   ],
   "source": [
    "l_contr(1000,0.99*c)"
   ]
  },
  {
   "cell_type": "markdown",
   "metadata": {},
   "source": [
    "### 4. Flying to space!\n",
    "\n",
    "Assume the following:\n",
    "\n",
    "Weight of your ship on Earth before starting the trip:\n",
    "$m_0 = M$\n",
    "\n",
    "Target speed:\n",
    "$v = k*c$\n",
    "where k is a constant $0<k<1$, and $c$ is the speed of light\n",
    "\n",
    "#### 4.1\n",
    "What will be your relativistic mass if M = 100000, k = 0.3?\n",
    "\n",
    "#### 4.2\n",
    "How much time will pass for you if k = 0.3, and on Earth one year passes?\n",
    "\n",
    "#### 4.3\n",
    "If k = 0.3, how long will be your ship appear to be from Earth, if you measure it to be 100m long?"
   ]
  },
  {
   "cell_type": "code",
   "execution_count": null,
   "metadata": {},
   "outputs": [],
   "source": []
  },
  {
   "cell_type": "code",
   "execution_count": 11,
   "metadata": {},
   "outputs": [
    {
     "name": "stdout",
     "output_type": "stream",
     "text": [
      "104828.48367219183\n",
      "0.9539392014169457\n",
      "104.82848367219182\n"
     ]
    }
   ],
   "source": [
    "## 4.1\n",
    "mass_rel =rel_mass(100000,0.3*c)\n",
    "print(mass_rel)\n",
    "\n",
    "## 4.2\n",
    "time_dil = tm(0.3*c,1)\n",
    "print(time_dil)\n",
    "\n",
    "## 4.3\n",
    "length_contr = l_contr(100,0.3*c)\n",
    "print(length_contr)"
   ]
  },
  {
   "cell_type": "markdown",
   "metadata": {},
   "source": [
    "#### 4.4\n",
    "Use your functions to plot your mass as a function of k*c as you accelerate from v=0 to v=c\n",
    "\n",
    "#### 4.5\n",
    "Use your functions to plot how one year on Earth is perceived by you as your velocity increases from 0 to c.\n",
    "\n",
    "#### 4.6\n",
    "Use your function to plot how long your ship will appear to observers on Earth as you accelerate from 0 to c."
   ]
  },
  {
   "cell_type": "code",
   "execution_count": 12,
   "metadata": {},
   "outputs": [
    {
     "name": "stderr",
     "output_type": "stream",
     "text": [
      "<ipython-input-2-60f2945e7400>:2: RuntimeWarning: divide by zero encountered in true_divide\n",
      "  mm=m0/np.sqrt(1-v**2/c**2)\n"
     ]
    },
    {
     "data": {
      "text/plain": [
       "[<matplotlib.lines.Line2D at 0x7fa19e7110d0>]"
      ]
     },
     "execution_count": 12,
     "metadata": {},
     "output_type": "execute_result"
    },
    {
     "data": {
      "image/png": "[encoded data removed]",
      "text/plain": [
       "<Figure size 432x288 with 1 Axes>"
      ]
     },
     "metadata": {
      "needs_background": "light"
     },
     "output_type": "display_data"
    }
   ],
   "source": [
    "v = np.linspace(0,c,1000)\n",
    "## 4.4\n",
    "mass = rel_mass(100, v)\n",
    "#plot:\n",
    "plt.plot(v,mass)"
   ]
  },
  {
   "cell_type": "code",
   "execution_count": 13,
   "metadata": {},
   "outputs": [
    {
     "data": {
      "text/plain": [
       "[<matplotlib.lines.Line2D at 0x7fa19e756700>]"
      ]
     },
     "execution_count": 13,
     "metadata": {},
     "output_type": "execute_result"
    },
    {
     "data": {
      "image/png": "[encoded data removed]",
      "text/plain": [
       "<Figure size 432x288 with 1 Axes>"
      ]
     },
     "metadata": {
      "needs_background": "light"
     },
     "output_type": "display_data"
    }
   ],
   "source": [
    "## 4.5\n",
    "v=np.linspace(0,c,1000)\n",
    "timeperceived=tm(v,1)\n",
    "plt.plot(v,timeperceived)"
   ]
  },
  {
   "cell_type": "code",
   "execution_count": 14,
   "metadata": {},
   "outputs": [
    {
     "name": "stderr",
     "output_type": "stream",
     "text": [
      "<ipython-input-9-fe84accc7257>:2: RuntimeWarning: divide by zero encountered in true_divide\n",
      "  lo=L/np.sqrt(1-v**2/c**2)\n"
     ]
    },
    {
     "data": {
      "text/plain": [
       "[<matplotlib.lines.Line2D at 0x7fa19e8765e0>]"
      ]
     },
     "execution_count": 14,
     "metadata": {},
     "output_type": "execute_result"
    },
    {
     "data": {
      "image/png": "[encoded data removed]",
      "text/plain": [
       "<Figure size 432x288 with 1 Axes>"
      ]
     },
     "metadata": {
      "needs_background": "light"
     },
     "output_type": "display_data"
    }
   ],
   "source": [
    "## 4.6\n",
    "v = np.linspace(0,c,1000)\n",
    "lo=l_contr(100,v)\n",
    "plt.plot(v,lo)"
   ]
  },
  {
   "cell_type": "markdown",
   "metadata": {},
   "source": [
    "## 5.\n",
    "How fast do you need to travel to make sure that when you came to Earth, you only grew 1 year older, but a hundred years passed on earth?"
   ]
  },
  {
   "cell_type": "markdown",
   "metadata": {},
   "source": [
    "*Model answer*\n",
    "\n",
    "*We can first plot the graph of how much time passes for us when 100 years pass on Earth. This is just time dilation for t_o = 100 and velocity changing from 0 to c.*\n",
    "\n",
    "*The place where this graph crosses the graph of time_mine = 1 is what we want.*"
   ]
  },
  {
   "cell_type": "code",
   "execution_count": 15,
   "metadata": {},
   "outputs": [
    {
     "data": {
      "text/plain": [
       "[<matplotlib.lines.Line2D at 0x7fa19e931f10>]"
      ]
     },
     "execution_count": 15,
     "metadata": {},
     "output_type": "execute_result"
    },
    {
     "data": {
      "image/png": "[encoded data removed]",
      "text/plain": [
       "<Figure size 432x288 with 1 Axes>"
      ]
     },
     "metadata": {
      "needs_background": "light"
     },
     "output_type": "display_data"
    }
   ],
   "source": [
    "v=np.linspace(0,c,1000)\n",
    "timemine=tm(v,100)\n",
    "plt.plot(v,timemine)"
   ]
  },
  {
   "cell_type": "markdown",
   "metadata": {},
   "source": [
    "*We can see that this will definitely happen when velocity v>0.99c. Hence we can have a look at different values of velocity around that area, for example printing a lot of them:*"
   ]
  },
  {
   "cell_type": "code",
   "execution_count": 16,
   "metadata": {},
   "outputs": [
    {
     "data": {
      "text/plain": [
       "10.000000006586736"
      ]
     },
     "execution_count": 16,
     "metadata": {},
     "output_type": "execute_result"
    }
   ],
   "source": [
    "tm(0.9949874371*c, 100)"
   ]
  },
  {
   "cell_type": "markdown",
   "metadata": {},
   "source": [
    "### "
   ]
  },
  {
   "cell_type": "code",
   "execution_count": null,
   "metadata": {},
   "outputs": [],
   "source": []
  }
 ],
 "metadata": {
  "kernelspec": {
   "display_name": "Python 3",
   "language": "python",
   "name": "python3"
  },
  "language_info": {
   "codemirror_mode": {
    "name": "ipython",
    "version": 3
   },
   "file_extension": ".py",
   "mimetype": "text/x-python",
   "name": "python",
   "nbconvert_exporter": "python",
   "pygments_lexer": "ipython3",
   "version": "3.8.3"
  }
 },
 "nbformat": 4,
 "nbformat_minor": 4
}
